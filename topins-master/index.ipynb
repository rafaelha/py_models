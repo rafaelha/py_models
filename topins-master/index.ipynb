{
 "cells": [
  {
   "cell_type": "markdown",
   "metadata": {},
   "source": [
    "# Notebooks for the course\n",
    "\n",
    "1. [SSH model](chapter01_SSH.ipynb)\n",
    "2. [RM model and pumping](chapter04_RM.ipynb)\n",
    "3. [QWZ model and Chern insulators](chapter06_QWZ.ipynb)\n",
    "3. [BHZ model and $\\mathbb{Z}_2$ insulators](chapter08_BHZ.ipynb)\n",
    "\n"
   ]
  }
 ],
 "metadata": {
  "kernelspec": {
   "display_name": "Python 3",
   "language": "python",
   "name": "python3"
  },
  "language_info": {
   "codemirror_mode": {
    "name": "ipython",
    "version": 3
   },
   "file_extension": ".py",
   "mimetype": "text/x-python",
   "name": "python",
   "nbconvert_exporter": "python",
   "pygments_lexer": "ipython3",
   "version": "3.4.3"
  },
  "latex_envs": {
   "bibliofile": "biblio.bib",
   "cite_by": "apalike",
   "current_citInitial": 1,
   "eqLabelWithNumbers": true,
   "eqNumInitial": 0
  }
 },
 "nbformat": 4,
 "nbformat_minor": 0
}
